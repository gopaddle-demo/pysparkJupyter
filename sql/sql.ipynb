{
 "cells": [
  {
   "cell_type": "code",
   "execution_count": 1,
   "id": "4a624358",
   "metadata": {},
   "outputs": [
    {
     "name": "stdout",
     "output_type": "stream",
     "text": [
      "[Row(col0=0, col1=1, col2=2), Row(col0=3, col1=1, col2=5), Row(col0=6, col1=2, col2=8)]\n",
      "+----+---------+---------+---------+\n",
      "|col1|sum(col0)|sum(col1)|sum(col2)|\n",
      "+----+---------+---------+---------+\n",
      "|   1|        3|        2|        7|\n",
      "|   2|        6|        2|        8|\n",
      "+----+---------+---------+---------+\n",
      "\n"
     ]
    }
   ],
   "source": [
    "import sys, os\n",
    "from pyspark.conf import SparkConf\n",
    "from pyspark.sql import SparkSession\n",
    "from pyspark.sql.types import Row\n",
    "from subprocess import check_output\n",
    "\n",
    "spark_conf = SparkConf()\n",
    "\n",
    "SPARK_DRIVER_HOST = check_output([\"hostname\", \"-i\"]).decode(encoding=\"utf-8\").strip()\n",
    "spark_conf.setAll(\n",
    "    [\n",
    "        (\n",
    "            \"spark.master\",\n",
    "            \"spark://10.192.0.242:7077\",\n",
    "        ),  # <--- this host must be resolvable by the driver in this case pyspark (whatever it is located, same server or remote) in our case the IP of server\n",
    "        (\"spark.app.name\", \"myApp1\"),\n",
    "        (\"spark.submit.deployMode\", \"client\"),\n",
    "        (\"spark.ui.showConsoleProgress\", \"true\"),\n",
    "        (\"spark.eventLog.enabled\", \"false\"),\n",
    "        (\"spark.logConf\", \"false\"),\n",
    "        (\n",
    "            \"spark.driver.bindAddress\",\n",
    "            \"0.0.0.0\",\n",
    "        ),  # <--- this host is the IP where pyspark will bind the service running the driver (normally 0.0.0.0)\n",
    "        (\n",
    "            \"spark.driver.host\",\n",
    "            SPARK_DRIVER_HOST,\n",
    "        ),  # <--- this host is the resolvable IP for the host that is running the driver and it must be reachable by the master and master must be able to reach it (in our case the IP of the container where we are running pyspark\n",
    "    ]\n",
    ")\n",
    "\n",
    "spark_sess = SparkSession.builder.config(conf=spark_conf).getOrCreate()\n",
    "spark_reader = spark_sess.read\n",
    "\n",
    "myDF = spark_sess.createDataFrame(\n",
    "    [\n",
    "        Row(col0=0, col1=1, col2=2),\n",
    "        Row(col0=3, col1=1, col2=5),\n",
    "        Row(col0=6, col1=2, col2=8),\n",
    "        Row(col0=6, col1=2, col2=8),\n",
    "        Row(col0=6, col1=2, col2=8),\n",
    "    ]\n",
    ")\n",
    "\n",
    "myGDF = myDF.select(\"*\").groupBy(\"col1\")\n",
    "myDF.createOrReplaceTempView(\"mydf_as_sqltable\")\n",
    "print(myDF.collect())\n",
    "myGDF.sum().show()\n",
    "\n",
    "spark_sess.stop()\n",
    "quit()"
   ]
  },
  {
   "cell_type": "code",
   "execution_count": null,
   "id": "d7b4700f",
   "metadata": {},
   "outputs": [],
   "source": []
  }
 ],
 "metadata": {
  "kernelspec": {
   "display_name": "Python 3",
   "language": "python",
   "name": "python3"
  },
  "language_info": {
   "codemirror_mode": {
    "name": "ipython",
    "version": 3
   },
   "file_extension": ".py",
   "mimetype": "text/x-python",
   "name": "python",
   "nbconvert_exporter": "python",
   "pygments_lexer": "ipython3",
   "version": "3.6.9"
  }
 },
 "nbformat": 4,
 "nbformat_minor": 5
}
